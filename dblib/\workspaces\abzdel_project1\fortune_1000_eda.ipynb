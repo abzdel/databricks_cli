{
 "cells": [
  {
   "cell_type": "code",
   "execution_count": 4,
   "metadata": {},
   "outputs": [],
   "source": [
    "import os\n",
    "from databricks import sql\n",
    "import pandas as pd"
   ]
  },
  {
   "cell_type": "code",
   "execution_count": 46,
   "metadata": {},
   "outputs": [
    {
     "name": "stdout",
     "output_type": "stream",
     "text": [
      "Row(rank=1, name='Walmart', revenues='$572,754 ', revenue_percent_change='2.40%', profits='$13,673 ', profits_percent_change='1.20%', assets='$244,860 ', market_value='$409,795 ', change_in_rank='-', employees='2,300,000')\n"
     ]
    },
    {
     "name": "stderr",
     "output_type": "stream",
     "text": [
      "/tmp/ipykernel_12600/3485302898.py:14: FutureWarning: The frame.append method is deprecated and will be removed from pandas in a future version. Use pandas.concat instead.\n",
      "  df = df.append(result, ignore_index=True)\n"
     ]
    }
   ],
   "source": [
    "df = pd.DataFrame()\n",
    "with sql.connect(\n",
    "        server_hostname=os.getenv(\"DATABRICKS_SERVER_HOSTNAME\"),\n",
    "        http_path=os.getenv(\"DATABRICKS_HTTP_PATH\"),\n",
    "        access_token=os.getenv(\"DATABRICKS_TOKEN\"),\n",
    "    ) as connection:\n",
    "\n",
    "        with connection.cursor() as cursor:\n",
    "            cursor.execute(\"SELECT * FROM default.fortune_1000\")\n",
    "            result = cursor.fetchall()\n",
    "\n",
    "        result = pd.Series(result)\n",
    "        print(result[0])\n",
    "        df = df.append(result, ignore_index=True)"
   ]
  },
  {
   "cell_type": "code",
   "execution_count": 48,
   "metadata": {},
   "outputs": [
    {
     "ename": "TypeError",
     "evalue": "Series.__init__() takes from 1 to 7 positional arguments but 11 were given",
     "output_type": "error",
     "traceback": [
      "\u001b[0;31m---------------------------------------------------------------------------\u001b[0m",
      "\u001b[0;31mTypeError\u001b[0m                                 Traceback (most recent call last)",
      "Cell \u001b[0;32mIn [48], line 16\u001b[0m\n\u001b[1;32m     12\u001b[0m     employees \u001b[38;5;241m=\u001b[39m row[\u001b[38;5;241m9\u001b[39m]\n\u001b[1;32m     14\u001b[0m     \u001b[38;5;28;01mreturn\u001b[39;00m pd\u001b[38;5;241m.\u001b[39mSeries(rank, name, revenues, revenue_percent_change, profits, profits_percent_change, assets, market_value, change_in_rank, employees)\n\u001b[0;32m---> 16\u001b[0m \u001b[43mparse_row\u001b[49m\u001b[43m(\u001b[49m\u001b[43mdf\u001b[49m\u001b[38;5;241;43m.\u001b[39;49m\u001b[43mT\u001b[49m\u001b[43m[\u001b[49m\u001b[38;5;241;43m0\u001b[39;49m\u001b[43m]\u001b[49m\u001b[43m[\u001b[49m\u001b[38;5;241;43m0\u001b[39;49m\u001b[43m]\u001b[49m\u001b[43m)\u001b[49m\n",
      "Cell \u001b[0;32mIn [48], line 14\u001b[0m, in \u001b[0;36mparse_row\u001b[0;34m(row)\u001b[0m\n\u001b[1;32m     11\u001b[0m change_in_rank \u001b[38;5;241m=\u001b[39m row[\u001b[38;5;241m8\u001b[39m]\n\u001b[1;32m     12\u001b[0m employees \u001b[38;5;241m=\u001b[39m row[\u001b[38;5;241m9\u001b[39m]\n\u001b[0;32m---> 14\u001b[0m \u001b[38;5;28;01mreturn\u001b[39;00m \u001b[43mpd\u001b[49m\u001b[38;5;241;43m.\u001b[39;49m\u001b[43mSeries\u001b[49m\u001b[43m(\u001b[49m\u001b[43mrank\u001b[49m\u001b[43m,\u001b[49m\u001b[43m \u001b[49m\u001b[43mname\u001b[49m\u001b[43m,\u001b[49m\u001b[43m \u001b[49m\u001b[43mrevenues\u001b[49m\u001b[43m,\u001b[49m\u001b[43m \u001b[49m\u001b[43mrevenue_percent_change\u001b[49m\u001b[43m,\u001b[49m\u001b[43m \u001b[49m\u001b[43mprofits\u001b[49m\u001b[43m,\u001b[49m\u001b[43m \u001b[49m\u001b[43mprofits_percent_change\u001b[49m\u001b[43m,\u001b[49m\u001b[43m \u001b[49m\u001b[43massets\u001b[49m\u001b[43m,\u001b[49m\u001b[43m \u001b[49m\u001b[43mmarket_value\u001b[49m\u001b[43m,\u001b[49m\u001b[43m \u001b[49m\u001b[43mchange_in_rank\u001b[49m\u001b[43m,\u001b[49m\u001b[43m \u001b[49m\u001b[43memployees\u001b[49m\u001b[43m)\u001b[49m\n",
      "\u001b[0;31mTypeError\u001b[0m: Series.__init__() takes from 1 to 7 positional arguments but 11 were given"
     ]
    }
   ],
   "source": [
    "def parse_row(row):\n",
    "\n",
    "    rank = row[0]\n",
    "    name = row[1]\n",
    "    revenues = row[2]\n",
    "    revenue_percent_change = row[3]\n",
    "    profits = row[4]\n",
    "    profits_percent_change = row[5]\n",
    "    assets = row[6]\n",
    "    market_value = row[7]\n",
    "    change_in_rank = row[8]\n",
    "    employees = row[9]\n",
    "\n",
    "    return pd.Series(rank, name, revenues, revenue_percent_change, profits, profits_percent_change, assets, market_value, change_in_rank, employees)\n",
    "\n",
    "df.T[0][0]"
   ]
  },
  {
   "cell_type": "code",
   "execution_count": null,
   "metadata": {},
   "outputs": [],
   "source": []
  },
  {
   "cell_type": "code",
   "execution_count": null,
   "metadata": {},
   "outputs": [],
   "source": []
  }
 ],
 "metadata": {
  "kernelspec": {
   "display_name": "Python 3.10.4 ('venv': venv)",
   "language": "python",
   "name": "python3"
  },
  "language_info": {
   "codemirror_mode": {
    "name": "ipython",
    "version": 3
   },
   "file_extension": ".py",
   "mimetype": "text/x-python",
   "name": "python",
   "nbconvert_exporter": "python",
   "pygments_lexer": "ipython3",
   "version": "3.10.4"
  },
  "orig_nbformat": 4,
  "vscode": {
   "interpreter": {
    "hash": "551af68ad37522bbe1e7b0299a34f9e01ffbe8392bb42f5521f50f077b7f6276"
   }
  }
 },
 "nbformat": 4,
 "nbformat_minor": 2
}
